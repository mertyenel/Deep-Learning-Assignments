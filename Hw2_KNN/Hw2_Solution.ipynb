{
  "nbformat": 4,
  "nbformat_minor": 0,
  "metadata": {
    "colab": {
      "provenance": []
    },
    "kernelspec": {
      "name": "python3",
      "display_name": "Python 3"
    },
    "language_info": {
      "name": "python"
    }
  },
  "cells": [
    {
      "cell_type": "code",
      "source": [
        "import os\n",
        "import numpy as np\n",
        "import cv2\n",
        "from scipy.stats import skew, kurtosis\n",
        "from sklearn.preprocessing import StandardScaler\n",
        "from collections import Counter\n"
      ],
      "metadata": {
        "id": "bwvrwAOQ-H5-"
      },
      "execution_count": 7,
      "outputs": []
    },
    {
      "cell_type": "code",
      "source": [
        "def extract_statistical_features(image_vector):\n",
        "    features = []\n",
        "\n",
        "    skew_value = skew(image_vector)\n",
        "    skew_value = 0 if np.isnan(skew_value) else skew_value\n",
        "    features.append(skew_value)\n",
        "\n",
        "    kurtosis_value = kurtosis(image_vector)\n",
        "    kurtosis_value = 0 if np.isnan(kurtosis_value) else kurtosis_value\n",
        "    features.append(kurtosis_value)\n",
        "\n",
        "    rms_value = np.sqrt(np.mean(np.square(image_vector)))\n",
        "    rms_value = 1 if rms_value == 0 else rms_value\n",
        "    crest_factor = np.max(image_vector) / rms_value\n",
        "    features.append(crest_factor)\n",
        "\n",
        "    mean_absolute_value = np.mean(np.abs(image_vector))\n",
        "    mean_absolute_value = 1 if mean_absolute_value == 0 else mean_absolute_value\n",
        "    shape_factor = rms_value / mean_absolute_value\n",
        "    features.append(shape_factor)\n",
        "\n",
        "    impulse_factor = np.max(image_vector) / mean_absolute_value\n",
        "    features.append(impulse_factor)\n",
        "\n",
        "    variance_value = np.var(image_vector)\n",
        "    variance_value = 1 if variance_value == 0 else variance_value\n",
        "    margin_factor = np.max(image_vector) / variance_value\n",
        "    features.append(margin_factor)\n",
        "\n",
        "    return features"
      ],
      "metadata": {
        "id": "D0s1Nt5glivd"
      },
      "execution_count": 8,
      "outputs": []
    },
    {
      "cell_type": "code",
      "source": [
        "def load_images_and_extract_features(folder):\n",
        "    images = []\n",
        "    labels = []\n",
        "    for label in os.listdir(folder):\n",
        "        label_folder = os.path.join(folder, label)\n",
        "        if not os.path.isdir(label_folder):\n",
        "            continue\n",
        "\n",
        "        for filename in os.listdir(label_folder):\n",
        "            img_path = os.path.join(label_folder, filename)\n",
        "            valid_extensions = ('.jpg', '.jpeg')\n",
        "            if not filename.lower().endswith(valid_extensions):\n",
        "                continue\n",
        "\n",
        "            img = cv2.imread(img_path)\n",
        "            if img is not None:\n",
        "                try:\n",
        "                    gray = cv2.cvtColor(img, cv2.COLOR_BGR2GRAY)\n",
        "                    resized = cv2.resize(gray, (128, 128))\n",
        "\n",
        "                    sobelx = cv2.Sobel(resized, cv2.CV_16S, 1, 0, ksize=3)\n",
        "                    sobely = cv2.Sobel(resized, cv2.CV_16S, 0, 1, ksize=3)\n",
        "\n",
        "                    abs_sobelx = cv2.convertScaleAbs(sobelx)\n",
        "                    abs_sobely = cv2.convertScaleAbs(sobely)\n",
        "                    gradient = cv2.addWeighted(abs_sobelx, 0.5, abs_sobely, 0.5, 0)\n",
        "\n",
        "                    gradient_vector = gradient.flatten().astype(np.float32)\n",
        "\n",
        "                    features = extract_statistical_features(gradient_vector)\n",
        "\n",
        "                    images.append(features)\n",
        "                    labels.append(label.lower())\n",
        "\n",
        "                except Exception as e:\n",
        "                    print(f\"Error processing {img_path}: {e}\")\n",
        "                    continue\n",
        "\n",
        "    return np.array(images, dtype=np.float32), np.array(labels)"
      ],
      "metadata": {
        "id": "ll53F2ot-J8S"
      },
      "execution_count": 9,
      "outputs": []
    },
    {
      "cell_type": "code",
      "source": [
        "def KNN(x_train, y_train, sample_test, k):\n",
        "\n",
        "    distances = np.linalg.norm(x_train - sample_test, axis=1)\n",
        "\n",
        "    neighbor_indices = np.argsort(distances)[:k]\n",
        "\n",
        "    neighbor_labels = y_train[neighbor_indices]\n",
        "\n",
        "    most_common = Counter(neighbor_labels).most_common(1)[0][0]\n",
        "\n",
        "    return most_common\n"
      ],
      "metadata": {
        "id": "vd-6YB3_oRR6"
      },
      "execution_count": 10,
      "outputs": []
    },
    {
      "cell_type": "code",
      "source": [
        "train_folder = '/content/train'\n",
        "test_folder = '/content/test'\n",
        "\n",
        "print(\"Eğitim verileri yükleniyor...\")\n",
        "x_train, y_train = load_images_and_extract_features(train_folder)\n",
        "print(f\"x_train shape: {x_train.shape}\")\n",
        "print(f\"y_train shape: {y_train.shape}\")\n",
        "\n",
        "print(\"\\nTest verileri yükleniyor...\")\n",
        "x_test, y_test = load_images_and_extract_features(test_folder)\n",
        "print(f\"x_test shape: {x_test.shape}\")\n",
        "print(f\"y_test shape: {y_test.shape}\")\n",
        "\n",
        "scaler = StandardScaler()\n",
        "x_train_scaled = scaler.fit_transform(x_train)\n",
        "x_test_scaled = scaler.transform(x_test)\n",
        "\n",
        "y_test_pred_labels = []\n",
        "\n",
        "for i in range(len(x_test_scaled)):\n",
        "    sample_test = x_test_scaled[i]\n",
        "    predicted_class = KNN(x_train_scaled, y_train, sample_test, k=5)\n",
        "    y_test_pred_labels.append(predicted_class)\n",
        "\n",
        "for i in range(len(y_test_pred_labels)):\n",
        "    print(f\"Test Sample {i+1}: Predicted class = {y_test_pred_labels[i]}, Actual class = {y_test[i]}\")"
      ],
      "metadata": {
        "id": "I2uHFPl8-Os5",
        "colab": {
          "base_uri": "https://localhost:8080/"
        },
        "outputId": "45b87aab-5ef3-41dc-f854-848b4f9fdf05"
      },
      "execution_count": 11,
      "outputs": [
        {
          "output_type": "stream",
          "name": "stdout",
          "text": [
            "Eğitim verileri yükleniyor...\n",
            "x_train shape: (135, 6)\n",
            "y_train shape: (135,)\n",
            "\n",
            "Test verileri yükleniyor...\n",
            "x_test shape: (19, 6)\n",
            "y_test shape: (19,)\n",
            "Test Sample 1: Predicted class = camera, Actual class = camera\n",
            "Test Sample 2: Predicted class = flamingo, Actual class = camera\n",
            "Test Sample 3: Predicted class = camera, Actual class = camera\n",
            "Test Sample 4: Predicted class = pizza, Actual class = camera\n",
            "Test Sample 5: Predicted class = flamingo, Actual class = camera\n",
            "Test Sample 6: Predicted class = flamingo, Actual class = flamingo\n",
            "Test Sample 7: Predicted class = flamingo, Actual class = flamingo\n",
            "Test Sample 8: Predicted class = flamingo, Actual class = flamingo\n",
            "Test Sample 9: Predicted class = flamingo, Actual class = flamingo\n",
            "Test Sample 10: Predicted class = flamingo, Actual class = flamingo\n",
            "Test Sample 11: Predicted class = flamingo, Actual class = flamingo\n",
            "Test Sample 12: Predicted class = camera, Actual class = flamingo\n",
            "Test Sample 13: Predicted class = flamingo, Actual class = flamingo\n",
            "Test Sample 14: Predicted class = pizza, Actual class = pizza\n",
            "Test Sample 15: Predicted class = pizza, Actual class = pizza\n",
            "Test Sample 16: Predicted class = pizza, Actual class = pizza\n",
            "Test Sample 17: Predicted class = camera, Actual class = pizza\n",
            "Test Sample 18: Predicted class = pizza, Actual class = pizza\n",
            "Test Sample 19: Predicted class = flamingo, Actual class = pizza\n"
          ]
        }
      ]
    }
  ]
}